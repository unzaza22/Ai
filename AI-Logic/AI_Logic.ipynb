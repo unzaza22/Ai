{
 "nbformat": 4,
 "nbformat_minor": 0,
 "metadata": {
  "colab": {
   "provenance": []
  },
  "kernelspec": {
   "name": "python3",
   "language": "python",
   "display_name": "Python 3 (ipykernel)"
  },
  "language_info": {
   "name": "python"
  }
 },
 "cells": [
  {
   "cell_type": "markdown",
   "metadata": {
    "id": "e-5xzhaagipF"
   },
   "source": [
    "# Basic Logic"
   ]
  },
  {
   "cell_type": "markdown",
   "metadata": {
    "id": "f4LRt3JzgorS"
   },
   "source": [
    "## Logic Class"
   ]
  },
  {
   "cell_type": "code",
   "metadata": {
    "id": "97pbuJXVgP15",
    "ExecuteTime": {
     "end_time": "2023-11-24T14:15:22.386793100Z",
     "start_time": "2023-11-24T14:15:22.378160300Z"
    }
   },
   "source": [
    "import itertools\n",
    "\n",
    "\n",
    "class Sentence():\n",
    "\n",
    "    def evaluate(self, model):\n",
    "        \"\"\"Evaluates the logical sentence.\"\"\"\n",
    "        raise Exception(\"nothing to evaluate\")\n",
    "\n",
    "    def formula(self):\n",
    "        \"\"\"Returns string formula representing logical sentence.\"\"\"\n",
    "        return \"\"\n",
    "\n",
    "    def symbols(self):\n",
    "        \"\"\"Returns a set of all symbols in the logical sentence.\"\"\"\n",
    "        return set()\n",
    "\n",
    "    @classmethod\n",
    "    def validate(cls, sentence):\n",
    "        if not isinstance(sentence, Sentence):\n",
    "            raise TypeError(\"must be a logical sentence\")\n",
    "\n",
    "    @classmethod\n",
    "    def parenthesize(cls, s):\n",
    "        \"\"\"Parenthesizes an expression if not already parenthesized.\"\"\"\n",
    "        def balanced(s):\n",
    "            \"\"\"Checks if a string has balanced parentheses.\"\"\"\n",
    "            count = 0\n",
    "            for c in s:\n",
    "                if c == \"(\":\n",
    "                    count += 1\n",
    "                elif c == \")\":\n",
    "                    if count <= 0:\n",
    "                        return False\n",
    "                    count -= 1\n",
    "            return count == 0\n",
    "        if not len(s) or s.isalpha() or (\n",
    "            s[0] == \"(\" and s[-1] == \")\" and balanced(s[1:-1])\n",
    "        ):\n",
    "            return s\n",
    "        else:\n",
    "            return f\"({s})\"\n",
    "\n",
    "\n",
    "class Symbol(Sentence):\n",
    "\n",
    "    def __init__(self, name):\n",
    "        self.name = name\n",
    "\n",
    "    def __eq__(self, other):\n",
    "        return isinstance(other, Symbol) and self.name == other.name\n",
    "\n",
    "    def __hash__(self):\n",
    "        return hash((\"symbol\", self.name))\n",
    "\n",
    "    def __repr__(self):\n",
    "        return self.name\n",
    "\n",
    "    def evaluate(self, model):\n",
    "        try:\n",
    "            return bool(model[self.name])\n",
    "        except KeyError:\n",
    "            raise EvaluationException(f\"variable {self.name} not in model\")\n",
    "\n",
    "    def formula(self):\n",
    "        return self.name\n",
    "\n",
    "    def symbols(self):\n",
    "        return {self.name}\n",
    "\n",
    "\n",
    "class Not(Sentence):\n",
    "    def __init__(self, operand):\n",
    "        Sentence.validate(operand)\n",
    "        self.operand = operand\n",
    "\n",
    "    def __eq__(self, other):\n",
    "        return isinstance(other, Not) and self.operand == other.operand\n",
    "\n",
    "    def __hash__(self):\n",
    "        return hash((\"not\", hash(self.operand)))\n",
    "\n",
    "    def __repr__(self):\n",
    "        return f\"Not({self.operand})\"\n",
    "\n",
    "    def evaluate(self, model):\n",
    "        return not self.operand.evaluate(model)\n",
    "\n",
    "    def formula(self):\n",
    "        return \"¬\" + Sentence.parenthesize(self.operand.formula())\n",
    "\n",
    "    def symbols(self):\n",
    "        return self.operand.symbols()\n",
    "\n",
    "\n",
    "class And(Sentence):\n",
    "    def __init__(self, *conjuncts):\n",
    "        for conjunct in conjuncts:\n",
    "            Sentence.validate(conjunct)\n",
    "        self.conjuncts = list(conjuncts)\n",
    "\n",
    "    def __eq__(self, other):\n",
    "        return isinstance(other, And) and self.conjuncts == other.conjuncts\n",
    "\n",
    "    def __hash__(self):\n",
    "        return hash(\n",
    "            (\"and\", tuple(hash(conjunct) for conjunct in self.conjuncts))\n",
    "        )\n",
    "\n",
    "    def __repr__(self):\n",
    "        conjunctions = \", \".join(\n",
    "            [str(conjunct) for conjunct in self.conjuncts]\n",
    "        )\n",
    "        return f\"And({conjunctions})\"\n",
    "\n",
    "    def add(self, conjunct):\n",
    "        Sentence.validate(conjunct)\n",
    "        self.conjuncts.append(conjunct)\n",
    "\n",
    "    def evaluate(self, model):\n",
    "        return all(conjunct.evaluate(model) for conjunct in self.conjuncts)\n",
    "\n",
    "    def formula(self):\n",
    "        if len(self.conjuncts) == 1:\n",
    "            return self.conjuncts[0].formula()\n",
    "        return \" ∧ \".join([Sentence.parenthesize(conjunct.formula())\n",
    "                           for conjunct in self.conjuncts])\n",
    "\n",
    "    def symbols(self):\n",
    "        return set.union(*[conjunct.symbols() for conjunct in self.conjuncts])\n",
    "\n",
    "\n",
    "class Or(Sentence):\n",
    "    def __init__(self, *disjuncts):\n",
    "        for disjunct in disjuncts:\n",
    "            Sentence.validate(disjunct)\n",
    "        self.disjuncts = list(disjuncts)\n",
    "\n",
    "    def __eq__(self, other):\n",
    "        return isinstance(other, Or) and self.disjuncts == other.disjuncts\n",
    "\n",
    "    def __hash__(self):\n",
    "        return hash(\n",
    "            (\"or\", tuple(hash(disjunct) for disjunct in self.disjuncts))\n",
    "        )\n",
    "\n",
    "    def __repr__(self):\n",
    "        disjuncts = \", \".join([str(disjunct) for disjunct in self.disjuncts])\n",
    "        return f\"Or({disjuncts})\"\n",
    "\n",
    "    def evaluate(self, model):\n",
    "        return any(disjunct.evaluate(model) for disjunct in self.disjuncts)\n",
    "\n",
    "    def formula(self):\n",
    "        if len(self.disjuncts) == 1:\n",
    "            return self.disjuncts[0].formula()\n",
    "        return \" ∨  \".join([Sentence.parenthesize(disjunct.formula())\n",
    "                            for disjunct in self.disjuncts])\n",
    "\n",
    "    def symbols(self):\n",
    "        return set.union(*[disjunct.symbols() for disjunct in self.disjuncts])\n",
    "\n",
    "\n",
    "class Implication(Sentence):\n",
    "    def __init__(self, antecedent, consequent):\n",
    "        Sentence.validate(antecedent)\n",
    "        Sentence.validate(consequent)\n",
    "        self.antecedent = antecedent\n",
    "        self.consequent = consequent\n",
    "\n",
    "    def __eq__(self, other):\n",
    "        return (isinstance(other, Implication)\n",
    "                and self.antecedent == other.antecedent\n",
    "                and self.consequent == other.consequent)\n",
    "\n",
    "    def __hash__(self):\n",
    "        return hash((\"implies\", hash(self.antecedent), hash(self.consequent)))\n",
    "\n",
    "    def __repr__(self):\n",
    "        return f\"Implication({self.antecedent}, {self.consequent})\"\n",
    "\n",
    "    def evaluate(self, model):\n",
    "        return ((not self.antecedent.evaluate(model))\n",
    "                or self.consequent.evaluate(model))\n",
    "\n",
    "    def formula(self):\n",
    "        antecedent = Sentence.parenthesize(self.antecedent.formula())\n",
    "        consequent = Sentence.parenthesize(self.consequent.formula())\n",
    "        return f\"{antecedent} => {consequent}\"\n",
    "\n",
    "    def symbols(self):\n",
    "        return set.union(self.antecedent.symbols(), self.consequent.symbols())\n",
    "\n",
    "\n",
    "class Biconditional(Sentence):\n",
    "    def __init__(self, left, right):\n",
    "        Sentence.validate(left)\n",
    "        Sentence.validate(right)\n",
    "        self.left = left\n",
    "        self.right = right\n",
    "\n",
    "    def __eq__(self, other):\n",
    "        return (isinstance(other, Biconditional)\n",
    "                and self.left == other.left\n",
    "                and self.right == other.right)\n",
    "\n",
    "    def __hash__(self):\n",
    "        return hash((\"biconditional\", hash(self.left), hash(self.right)))\n",
    "\n",
    "    def __repr__(self):\n",
    "        return f\"Biconditional({self.left}, {self.right})\"\n",
    "\n",
    "    def evaluate(self, model):\n",
    "        return ((self.left.evaluate(model)\n",
    "                 and self.right.evaluate(model))\n",
    "                or (not self.left.evaluate(model)\n",
    "                    and not self.right.evaluate(model)))\n",
    "\n",
    "    def formula(self):\n",
    "        left = Sentence.parenthesize(str(self.left))\n",
    "        right = Sentence.parenthesize(str(self.right))\n",
    "        return f\"{left} <=> {right}\"\n",
    "\n",
    "    def symbols(self):\n",
    "        return set.union(self.left.symbols(), self.right.symbols())\n",
    "\n",
    "\n",
    "def model_check(knowledge, query):\n",
    "    \"\"\"Checks if knowledge base entails query.\"\"\"\n",
    "\n",
    "    def check_all(knowledge, query, symbols, model):\n",
    "        \"\"\"Checks if knowledge base entails query, given a particular model.\"\"\"\n",
    "\n",
    "        # If model has an assignment for each symbol\n",
    "        if not symbols:\n",
    "\n",
    "            # If knowledge base is true in model, then query must also be true\n",
    "            if knowledge.evaluate(model):\n",
    "                return query.evaluate(model)\n",
    "            return True\n",
    "        else:\n",
    "\n",
    "            # Choose one of the remaining unused symbols\n",
    "            remaining = symbols.copy()\n",
    "            p = remaining.pop()\n",
    "\n",
    "            # Create a model where the symbol is true\n",
    "            model_true = model.copy()\n",
    "            model_true[p] = True\n",
    "\n",
    "            # Create a model where the symbol is false\n",
    "            model_false = model.copy()\n",
    "            model_false[p] = False\n",
    "\n",
    "            # Ensure entailment holds in both models\n",
    "            return (check_all(knowledge, query, remaining, model_true) and\n",
    "                    check_all(knowledge, query, remaining, model_false))\n",
    "\n",
    "    # Get all symbols in both knowledge and query\n",
    "    symbols = set.union(knowledge.symbols(), query.symbols())\n",
    "\n",
    "    # Check that knowledge entails query\n",
    "    return check_all(knowledge, query, symbols, dict())"
   ],
   "execution_count": 4,
   "outputs": []
  },
  {
   "cell_type": "markdown",
   "metadata": {
    "id": "BUapB0Sihe_i"
   },
   "source": [
    "## ตัวอย่างที่ 1: ฝนตกหรือไม่\n",
    "\n",
    "ข้อมูล\n",
    "1. ถ้าฝนไม่ตก แฮร์รี่ไปหาแฮกริด\n",
    "2. แฮร์รี่ไปหาแฮกริดหรือไม่ก็ไปหาดัมเบิลดอร์ คนใดคนหนึ่ง\n",
    "3. แฮร์รี่ไปหาดัมเบิลดอร์\n",
    "\n",
    "คำถาม : ฝนตก เป็นจริงหรือไม่"
   ]
  },
  {
   "cell_type": "code",
   "metadata": {
    "id": "G5_GnenMhtLT",
    "ExecuteTime": {
     "end_time": "2023-11-24T14:23:08.654029800Z",
     "start_time": "2023-11-24T14:23:08.639024500Z"
    }
   },
   "source": [
    "rain = Symbol(\"ฝนตก\")\n",
    "visitedHagrid = Symbol(\"แฮร์รี่ไปหาแฮกริด\")\n",
    "visitedDumbledore = Symbol(\"แฮร์รี่ไปหาดัมเบิลดอร์\")"
   ],
   "execution_count": 7,
   "outputs": []
  },
  {
   "cell_type": "code",
   "metadata": {
    "id": "aNjkxF1wh2Pi",
    "ExecuteTime": {
     "end_time": "2023-11-24T14:23:10.446195700Z",
     "start_time": "2023-11-24T14:23:10.432188600Z"
    }
   },
   "source": [
    "knowledge = And(\n",
    "    Implication(Not(rain), visitedHagrid), \n",
    "    Or(visitedHagrid, visitedDumbledore),\n",
    "    Not(And(visitedHagrid, visitedDumbledore)),\n",
    "    visitedDumbledore\n",
    ")"
   ],
   "execution_count": 8,
   "outputs": []
  },
  {
   "cell_type": "code",
   "metadata": {
    "id": "DkVi-nI3h63O",
    "ExecuteTime": {
     "end_time": "2023-11-24T14:25:09.437025Z",
     "start_time": "2023-11-24T14:25:09.432517Z"
    }
   },
   "source": [
    "wasRained = model_check(knowledge, rain)\n",
    "wasHagrid = model_check(knowledge, visitedHagrid)\n",
    "wasDumbledore = model_check(knowledge, visitedDumbledore)\n",
    "print(wasRained)\n",
    "print(wasHagrid)\n",
    "print(wasDumbledore)"
   ],
   "execution_count": 10,
   "outputs": [
    {
     "name": "stdout",
     "output_type": "stream",
     "text": [
      "True\n",
      "False\n",
      "True\n"
     ]
    }
   ]
  },
  {
   "cell_type": "markdown",
   "metadata": {
    "id": "lxsyG1cTkaew"
   },
   "source": [
    "## ตัวอย่างที่ 2: สินค้าอยู่ที่ใด\n",
    "\n",
    "ข้อมูล\n",
    "1. ถ้าสินค้าอยู่โกดังหมายเลข 1 แล้วพนักงาน ก. เห็นสินค้านั้นในตอนเช้า\n",
    "2. พนักงาน ก. ไปที่ออฟฟิสของโกดังหมายเลข 2 หรือไปที่ออฟฟิสของโกดังหมายเลข 3\n",
    "3. ถ้าพนักงาน ก. ไปที่ออฟฟิสของโกดังหมายเลข 2 แล้วสินค้าอยู่ในโกดังหมายเลข 2\n",
    "4. พนักงาน ก. ไม่ได้เห็นสินค้าในตอนเช้า\n",
    "5. ถ้าพนักงาน ก.ไปที่ออฟฟิสของโกดังหมายเลข 4 แล้วสินค้าอยู่ในโกดังหมายเลข 3\n",
    "6. ถ้าพนักงาน ก.ไปที่ออฟฟิสของโกดังหมายเลข 3 แล้วสินค้าอยู่ในโกดังหมายเลข 1\n",
    "\n",
    "สินค้าอยู่ที่ใด\n"
   ]
  },
  {
   "cell_type": "code",
   "metadata": {
    "id": "8lzcF55fp3Yg",
    "ExecuteTime": {
     "end_time": "2023-11-24T14:34:55.265047300Z",
     "start_time": "2023-11-24T14:34:55.246770Z"
    }
   },
   "source": [
    "import termcolor"
   ],
   "execution_count": 11,
   "outputs": []
  },
  {
   "cell_type": "code",
   "metadata": {
    "id": "yu6d40d-nZaL",
    "ExecuteTime": {
     "end_time": "2023-11-24T14:47:29.061340600Z",
     "start_time": "2023-11-24T14:47:29.046388500Z"
    }
   },
   "source": [
    "# ตัวอย่างของการแปลงประโยคเป็น Symbol หรือ Statement\n",
    "p = Symbol('สินค้าอยู่โกดังหมายเลข 1')\n",
    "q = Symbol('พนักงาน ก. เห็นสินค้านั้นในตอนเช้า')\n",
    "r = Symbol('พนักงาน ก. ไปที่ออฟฟิสของโกดังหมายเลข 2')\n",
    "s = Symbol('พนักงาน ก. ไปที่ออฟฟิสของโกดังหมายเลข 3')\n",
    "t = Symbol('สินค้าอยู่ในโกดังหมายเลข 2')\n",
    "u = Symbol('พนักงาน ก. ไปที่ออฟฟิสของโกดังหมายเลข 4')\n",
    "v = Symbol('สินค้าอยู่ในโกดังหมายเลข 3')"
   ],
   "execution_count": 14,
   "outputs": []
  },
  {
   "cell_type": "markdown",
   "metadata": {
    "id": "AeVW8YDi3Pwn"
   },
   "source": [
    "ตัวอย่างของ Keywords:\n",
    "and, or, not, if, else, return"
   ]
  },
  {
   "cell_type": "code",
   "metadata": {
    "id": "_DXTRS-ooxs2",
    "ExecuteTime": {
     "end_time": "2023-11-24T14:47:30.611627700Z",
     "start_time": "2023-11-24T14:47:30.596029200Z"
    }
   },
   "source": [
    "# โปรดเติมโค้ดเพื่อสร้าง knowledge\n",
    "knowledge = And(\n",
    "    Implication(p, q),\n",
    "    Or(r, s),\n",
    "    Implication(r, t),\n",
    "    Not(q),\n",
    "    Implication(u, v),\n",
    "    Implication(s, p)\n",
    ")"
   ],
   "execution_count": 15,
   "outputs": []
  },
  {
   "cell_type": "code",
   "metadata": {
    "id": "5vQtsdqIpV5g",
    "ExecuteTime": {
     "end_time": "2023-11-24T14:49:37.878678600Z",
     "start_time": "2023-11-24T14:49:37.861579200Z"
    }
   },
   "source": [
    "def check_knowledge(knowledge, symbols):\n",
    "    for s in symbols:\n",
    "        if model_check(knowledge, s):\n",
    "            termcolor.cprint(f\"{s}\", \"green\")"
   ],
   "execution_count": 16,
   "outputs": []
  },
  {
   "cell_type": "code",
   "metadata": {
    "id": "hAFYvErzp_Gb",
    "ExecuteTime": {
     "end_time": "2023-11-24T14:49:42.482977Z",
     "start_time": "2023-11-24T14:49:42.478953Z"
    }
   },
   "source": [
    "# สร้างรายการสถานที่ที่เป็นไปได้ในลิสต์ possibleLocation\n",
    "possibleLocation = [p, t, v]\n",
    "\n",
    "# เช็ค possibleLocation เทียบกับ knowledge ที่สร้างมา\n",
    "check_knowledge(knowledge, possibleLocation)"
   ],
   "execution_count": 17,
   "outputs": [
    {
     "name": "stdout",
     "output_type": "stream",
     "text": [
      "\u001B[32mสินค้าอยู่ในโกดังหมายเลข 2\u001B[0m\n"
     ]
    }
   ]
  },
  {
   "cell_type": "markdown",
   "metadata": {
    "id": "yIv8VURk21Vo"
   },
   "source": [
    "## แบบฝึกหัด\n",
    "จากข้อมูลต่อไปนี้ จงเขียนโปรแกรมเพื่อหาข้อผิดพลาดของการขนส่งว่าเกิดที่ใด\n",
    "- ถ้าระบบไม่แจ้งเตือน \"Oversized\" แสดงว่าไม่เกิดข้อผิดพลาดที่การบรรจุหีบห่อ\n",
    "- ถ้าระบบแจ้งเตือนว่า \"Delayed\" แล้วหมายถึงว่า เกิดน้ำท่วมรอระบายทำให้ขนส่งล่าช้า\n",
    "- ถ้าระบบแจ้งเตือนว่า \"Incorrect Package\" แสดงว่าเกิดข้อผิดพลาดที่การบรรจุหีบห่อ\n",
    "- ระบบแสดงข้อความว่า \"Safe Route\" แต่ไม่แจ้งเตือน \"Oversized\"\n",
    "- ระบบแจ้งเตือน \"Incorrect Package\" หรือ เกิดข้อผิดพลาดจากการส่งผิดสถานีย่อย"
   ]
  },
  {
   "cell_type": "code",
   "metadata": {
    "id": "hi2iO-VT66H9",
    "ExecuteTime": {
     "end_time": "2023-11-24T15:02:51.664580Z",
     "start_time": "2023-11-24T15:02:51.651964800Z"
    }
   },
   "source": [
    "# จงใช้คำสั่งในการสร้าง Symbol\n",
    "p = Symbol('ระบบแจ้งเตือน \"Oversized\"')\n",
    "q = Symbol('เกิดข้อผิดพลาดที่การบรรจุหีบห่อ')\n",
    "r = Symbol('ระบบแจ้งเตือนว่า \"Delayed\"')\n",
    "s = Symbol('เกิดน้ำท่วมรอระบายทำให้ขนส่งล่าช้า')\n",
    "t = Symbol('ระบบแจ้งเตือนว่า \"Incorrect Package\"')\n",
    "u = Symbol('ระบบแสดงข้อความว่า \"Safe Route\"')\n",
    "v = Symbol('เกิดข้อผิดพลาดจากการส่งผิดสถานีย่อย')"
   ],
   "execution_count": 18,
   "outputs": []
  },
  {
   "cell_type": "code",
   "metadata": {
    "id": "xXfp8kHJ7yLd",
    "ExecuteTime": {
     "end_time": "2023-11-24T15:02:53.473872100Z",
     "start_time": "2023-11-24T15:02:53.458621200Z"
    }
   },
   "source": [
    "# จงใช้คำสั่งในการสร้าง knowledge\n",
    "knowledge = And(\n",
    "    Implication(Not(p), Not(q)),\n",
    "    Implication(r, s),\n",
    "    Implication(t, q),\n",
    "    And(u, Not(p)),\n",
    "    Or(t, v)\n",
    ")"
   ],
   "execution_count": 19,
   "outputs": []
  },
  {
   "cell_type": "code",
   "metadata": {
    "id": "dLqcsgYw8Q_O",
    "ExecuteTime": {
     "end_time": "2023-11-24T15:02:56.271822600Z",
     "start_time": "2023-11-24T15:02:56.236983200Z"
    }
   },
   "source": [
    "# จงใช้คำสั่งในการสร้างลิสต์ของข้อผิดพลาดที่เป็นไปได้\n",
    "possibleLocation = [q, s, v]\n",
    "\n",
    "# ตรวจสอบข้อมูลที่มีกับลิสต์ของข้อผิดพลาดที่เป็นไปได้\n",
    "check_knowledge(knowledge, possibleLocation)"
   ],
   "execution_count": 20,
   "outputs": [
    {
     "name": "stdout",
     "output_type": "stream",
     "text": [
      "\u001B[32mเกิดข้อผิดพลาดจากการส่งผิดสถานีย่อย\u001B[0m\n"
     ]
    }
   ]
  },
  {
   "cell_type": "code",
   "execution_count": null,
   "outputs": [],
   "source": [],
   "metadata": {
    "collapsed": false
   }
  }
 ]
}
